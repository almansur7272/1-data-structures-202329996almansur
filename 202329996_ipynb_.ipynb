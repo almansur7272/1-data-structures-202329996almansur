{
  "nbformat": 4,
  "nbformat_minor": 0,
  "metadata": {
    "colab": {
      "provenance": [],
      "toc_visible": true
    },
    "kernelspec": {
      "name": "python3",
      "display_name": "Python 3"
    },
    "language_info": {
      "name": "python"
    }
  },
  "cells": [
    {
      "cell_type": "markdown",
      "source": [
        "# Binary Search Trees (BST)"
      ],
      "metadata": {
        "id": "d4USoBYZIbMc"
      }
    },
    {
      "cell_type": "code",
      "execution_count": 17,
      "metadata": {
        "id": "b6Xnq4-nIVMA"
      },
      "outputs": [],
      "source": [
        "class TreeNode:\n",
        "    def __init__(self, value):\n",
        "        self.value = value\n",
        "        self.left = None\n",
        "        self.right = None\n",
        "        self.parent = None\n",
        "\n",
        "class BinarySearchTree:\n",
        "    def __init__(self):\n",
        "        self.root = None\n",
        "\n",
        "    def find_value(self, current, target):\n",
        "        if current is None:\n",
        "            return None\n",
        "        if current.value == target:\n",
        "            return current\n",
        "        if target < current.value:\n",
        "            return self.find_value(current.left, target)\n",
        "        else:\n",
        "            return self.find_value(current.right, target)\n",
        "\n",
        "    def find_value_itr(self, root, target):\n",
        "        current = root\n",
        "        while current is not None and current.value != target:\n",
        "            if target < current.value:\n",
        "                current = current.left\n",
        "            else:\n",
        "                current = current.right\n",
        "        return current\n",
        "\n",
        "    def find_tree_node(self, target):\n",
        "        if self.root is None:\n",
        "            return None\n",
        "        return self.find_value(self.root, target)\n",
        "\n",
        "    def insert_tree_node(self, new_value):\n",
        "        if self.root is None:\n",
        "            self.root = TreeNode(new_value)\n",
        "        else:\n",
        "            self.insert_node(self.root, new_value)\n",
        "\n",
        "    def insert_node(self, current, new_value):\n",
        "        if new_value == current.value:\n",
        "            return  # Skip inserting duplicates\n",
        "        if new_value < current.value:\n",
        "            if current.left is not None:\n",
        "                self.insert_node(current.left, new_value)\n",
        "            else:\n",
        "                current.left = TreeNode(new_value)\n",
        "                current.left.parent = current\n",
        "        else:\n",
        "            if current.right is not None:\n",
        "                self.insert_node(current.right, new_value)\n",
        "            else:\n",
        "                current.right = TreeNode(new_value)\n",
        "                current.right.parent = current\n",
        "\n",
        "    def remove_tree_node(self, node):\n",
        "        if node is None:\n",
        "            return\n",
        "\n",
        "        if node.left is None and node.right is None:\n",
        "          if node.parent is None:\n",
        "            self.root = None\n",
        "          elif node.parent.left == node:\n",
        "            node.parent.left = None\n",
        "          else:\n",
        "            node.parent.right = None\n",
        "\n",
        "        elif node.left is None or node.right is None:\n",
        "            child = node.left if node.left else node.right\n",
        "            child.parent = node.parent\n",
        "            if node.parent is None:\n",
        "                self.root = child\n",
        "            elif node == node.parent.left:\n",
        "                node.parent.left = child\n",
        "            else:\n",
        "                node.parent.right = child\n",
        "\n",
        "        else:\n",
        "            successor = self.get_min_value_node(node.right)\n",
        "            self.remove_tree_node(successor)\n",
        "            successor.parent = node.parent\n",
        "\n",
        "            if node.parent is None:\n",
        "                self.root = successor\n",
        "            elif node == node.parent.left:\n",
        "                node.parent.left = successor\n",
        "            else:\n",
        "                node.parent.right = child\n",
        "            successor.left = node.left\n",
        "            successor.right = node.right\n",
        "\n",
        "            if node.left is not None:\n",
        "                node.left.parent = successor\n",
        "            if node.right is not None:\n",
        "                node.right.parent = successor\n",
        "\n",
        "\n",
        "    def get_min_value_node(self, node):\n",
        "        current = node\n",
        "        while current.left is not None:\n",
        "            current = current.left\n",
        "        return current\n",
        "\n",
        "    def remove_value(self, target):\n",
        "        node = self.find_tree_node(target)\n",
        "        self.remove_tree_node(node)\n",
        "\n",
        "    def print_tree(self):\n",
        "        levels = []\n",
        "        self._print_tree_helper(self.root, 0, levels)\n",
        "        for depth, nodes in enumerate(levels):\n",
        "            print(f\"Level {depth}): \"+\" \".join(map(str, nodes)))\n",
        "\n",
        "    def _print_tree_helper(self, node, depth, levels):\n",
        "        if node is None:\n",
        "            return\n",
        "        if (len(levels) == depth):\n",
        "            levels.append([])\n",
        "        levels[depth].append(node.value)\n",
        "        self._print_tree_helper(node.left, depth + 1, levels)\n",
        "        self._print_tree_helper(node.right, depth + 1, levels)"
      ]
    },
    {
      "cell_type": "markdown",
      "source": [
        "## Inserting and Printing Tree"
      ],
      "metadata": {
        "id": "GdGqa1nuIiYa"
      }
    },
    {
      "cell_type": "code",
      "source": [
        "bst = BinarySearchTree()\n",
        "bst.insert_tree_node(50)\n",
        "bst.insert_tree_node(30)\n",
        "bst.insert_tree_node(70)\n",
        "bst.insert_tree_node(20)\n",
        "bst.insert_tree_node(40)\n",
        "bst.insert_tree_node(60)\n",
        "bst.insert_tree_node(80)"
      ],
      "metadata": {
        "id": "1Z3ldq1_xGIA"
      },
      "execution_count": 18,
      "outputs": []
    },
    {
      "cell_type": "code",
      "source": [
        "print(\"BST after inserts: \")\n",
        "bst.print_tree()"
      ],
      "metadata": {
        "colab": {
          "base_uri": "https://localhost:8080/"
        },
        "id": "uF-eT-vFxKmc",
        "outputId": "4a2db76c-259e-484b-c9a6-554492aaf747"
      },
      "execution_count": 19,
      "outputs": [
        {
          "output_type": "stream",
          "name": "stdout",
          "text": [
            "BST after inserts: \n",
            "Level 0): 50\n",
            "Level 1): 30 70\n",
            "Level 2): 20 40 60 80\n"
          ]
        }
      ]
    },
    {
      "cell_type": "code",
      "source": [],
      "metadata": {
        "id": "jtSvIRdUxGuu"
      },
      "execution_count": null,
      "outputs": []
    },
    {
      "cell_type": "markdown",
      "source": [
        "## Searching for Values"
      ],
      "metadata": {
        "id": "BsRYD_sZIoRB"
      }
    },
    {
      "cell_type": "code",
      "source": [
        "print(\"Finding 20:\", bst.find_tree_node(20))"
      ],
      "metadata": {
        "colab": {
          "base_uri": "https://localhost:8080/"
        },
        "id": "87cwXuQM06Qq",
        "outputId": "020cbf61-87cb-45c3-8071-b59774267513"
      },
      "execution_count": 20,
      "outputs": [
        {
          "output_type": "stream",
          "name": "stdout",
          "text": [
            "Finding 20: <__main__.TreeNode object at 0x79b6fcabf460>\n"
          ]
        }
      ]
    },
    {
      "cell_type": "markdown",
      "source": [
        "## Removing Nodes"
      ],
      "metadata": {
        "id": "4gfBL-_IIth5"
      }
    },
    {
      "cell_type": "code",
      "source": [
        "bst.remove_value(0)\n",
        "print(\"Tree after removing 0: \")\n",
        "bst.print_tree()\n",
        "\n",
        "bst.remove_value(100)\n",
        "print(\"Tree after removing 100: \")\n",
        "bst.print_tree()\n",
        "\n",
        "bst.remove_value(50)\n",
        "print(\"Tree after removing 50: \")\n",
        "bst.print_tree()"
      ],
      "metadata": {
        "colab": {
          "base_uri": "https://localhost:8080/"
        },
        "id": "sVNN9VPA1f7-",
        "outputId": "940e803c-9e5a-4580-da4f-378d0a65d765"
      },
      "execution_count": 21,
      "outputs": [
        {
          "output_type": "stream",
          "name": "stdout",
          "text": [
            "Tree after removing 0: \n",
            "Level 0): 50\n",
            "Level 1): 30 70\n",
            "Level 2): 20 40 60 80\n",
            "Tree after removing 100: \n",
            "Level 0): 50\n",
            "Level 1): 30 70\n",
            "Level 2): 20 40 60 80\n",
            "Tree after removing 50: \n",
            "Level 0): 60\n",
            "Level 1): 30 70\n",
            "Level 2): 20 40 80\n"
          ]
        }
      ]
    },
    {
      "cell_type": "markdown",
      "source": [
        "## Min / Max Value Search"
      ],
      "metadata": {
        "id": "P3HGaLrwIxWq"
      }
    },
    {
      "cell_type": "code",
      "source": [
        "min_node = bst.get_min_value_node(bst.root)\n",
        "print(\"Minimum value in Tree:\", min_node.value)"
      ],
      "metadata": {
        "colab": {
          "base_uri": "https://localhost:8080/"
        },
        "id": "CBh3fE6M86Ym",
        "outputId": "eb62b919-4de6-4592-bc33-8f9a6485980c"
      },
      "execution_count": 22,
      "outputs": [
        {
          "output_type": "stream",
          "name": "stdout",
          "text": [
            "Minimum value in Tree: 20\n"
          ]
        }
      ]
    },
    {
      "cell_type": "markdown",
      "source": [
        "## Explanation\n",
        "\n",
        "1. InsertNode:\n",
        "  - Adds a new node with a given value to the tree.\n",
        "  - Checks if the current node should go left or right and recursively finds the position.\n",
        "  - Sets parent pointer for maintaining references.\n",
        "2. RemoveTreeNode:\n",
        "  - Handles three cases:\n",
        "    - Leaf Node: Simply deletes the node.\n",
        "    - One Child: Promotes the child node.\n",
        "    - Two Children: Finds the successor (smallest value in the right subtree), splices it, and replaces the node to be deleted.\n",
        "3. PrintTree:\n",
        "  - Uses breadth-first traversal to display the tree structure by levels.\n",
        "\n",
        "These examples and explanations illustrate the common operations in a binary search tree and provide insights into tree manipulation, making it easier to visualize how insertions and deletions work."
      ],
      "metadata": {
        "id": "XhhSBexTM7tu"
      }
    },
    {
      "cell_type": "code",
      "source": [],
      "metadata": {
        "id": "9hvq3ROYI0dD"
      },
      "execution_count": null,
      "outputs": []
    }
  ]
}